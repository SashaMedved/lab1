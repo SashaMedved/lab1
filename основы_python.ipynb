{
 "cells": [
  {
   "cell_type": "markdown",
   "metadata": {
    "id": "M-DGa20PaHnu"
   },
   "source": [
    "#Задача 1\n",
    "Написать функцию на вход которой подается строка, состоящая из латинских букв.\n",
    "Функция должна вернуть количество гласных букв (a, e, i, o, u) в этой строке. Написать тесты для кода"
   ]
  },
  {
   "cell_type": "code",
   "execution_count": 27,
   "metadata": {
    "id": "XvX8X_JJ6PCb"
   },
   "outputs": [
    {
     "name": "stdout",
     "output_type": "stream",
     "text": [
      "Количество гласных в строке 'Hello World': 3\n",
      "Все тесты прошли успешно!\n"
     ]
    }
   ],
   "source": [
    "def count_vowels(str):\n",
    "    vowels = \"aeiouAEIOU\"\n",
    "    count = 0\n",
    "    \n",
    "    for char in str:\n",
    "        if char in vowels:          \n",
    "            count += 1\n",
    "    \n",
    "    return count\n",
    "\n",
    "input_string = \"Hello World\"\n",
    "result = count_vowels(input_string)\n",
    "\n",
    "print(f\"Количество гласных в строке '{input_string}': {result}\")\n",
    "\n",
    "\n",
    "def test_count_vowels():\n",
    "    # Тест 1: Строка с гласными и согласными\n",
    "    assert count_vowels(\"Hello World\") == 3, \"Тест 1 не прошел\"\n",
    "    \n",
    "    # Тест 2: Строка без гласных\n",
    "    assert count_vowels(\"bcdfghjklmnpqrstvwxyz\") == 0, \"Тест 2 не прошел\"\n",
    "    \n",
    "    # Тест 3: Строка только с гласными\n",
    "    assert count_vowels(\"aeiou\") == 5, \"Тест 3 не прошел\"\n",
    "    \n",
    "    # Тест 4: Пустая строка\n",
    "    assert count_vowels(\"\") == 0, \"Тест 4 не прошел\"\n",
    "    \n",
    "    # Тест 5: Строка с гласными в верхнем регистре\n",
    "    assert count_vowels(\"AEIOU\") == 5, \"Тест 5 не прошел\"\n",
    "    \n",
    "    # Тест 6: Строка с повторяющимися гласными\n",
    "    assert count_vowels(\"aaaeeeiii\") == 9, \"Тест 6 не прошел\"\n",
    "    \n",
    "    print(\"Все тесты прошли успешно!\")\n",
    "\n",
    "test_count_vowels()"
   ]
  },
  {
   "cell_type": "markdown",
   "metadata": {
    "id": "t2ClV_Y0bbr6"
   },
   "source": [
    "# Задача 2\n",
    "Написать функцию на вход, которой подается строка. Функция должна вернуть true, если\n",
    "каждый символ в строке встречается только 1 раз, иначе должна вернуть false. Написать тесты для кода"
   ]
  },
  {
   "cell_type": "code",
   "execution_count": 11,
   "metadata": {
    "id": "FppbECao6VIz"
   },
   "outputs": [
    {
     "name": "stdout",
     "output_type": "stream",
     "text": [
      "Все символы уникальны: True\n",
      "Все тесты прошли успешно!\n"
     ]
    }
   ],
   "source": [
    "def is_unique(str):\n",
    "\twords = set()\n",
    "\tfor char in str:\n",
    "\t\tif char in words:\n",
    "\t\t\treturn False\n",
    "\t\twords.add(char)\n",
    "\treturn True\n",
    "\n",
    "input_string = \"abcdef\"\n",
    "result = is_unique(input_string)\n",
    "print(f\"Все символы уникальны: {result}\")\n",
    "\n",
    "\n",
    "\n",
    "def test_is_unique():\n",
    "    # Тест 1: Строка с уникальными символами\n",
    "    assert is_unique(\"abcdef\") == True, \"Тест 1 не прошел\"\n",
    "    \n",
    "    # Тест 2: Строка с повторяющимися символами\n",
    "    assert is_unique(\"aabbcc\") == False, \"Тест 2 не прошел\"\n",
    "    \n",
    "    # Тест 3: Пустая строка\n",
    "    assert is_unique(\"\") == True, \"Тест 3 не прошел\"\n",
    "    \n",
    "    # Тест 4: Строка с одним символом\n",
    "    assert is_unique(\"a\") == True, \"Тест 4 не прошел\"\n",
    "    \n",
    "    # Тест 5: Строка с уникальными символами в верхнем и нижнем регистре\n",
    "    assert is_unique(\"AaBbCc\") == True, \"Тест 5 не прошел\"\n",
    "    \n",
    "    # Тест 6: Строка с повторяющимся символом в разных регистрах\n",
    "    assert is_unique(\"abcABC\") == True, \"Тест 6 не прошел\"\n",
    "    \n",
    "    print(\"Все тесты прошли успешно!\")\n",
    "\n",
    "test_is_unique()"
   ]
  },
  {
   "cell_type": "markdown",
   "metadata": {
    "id": "udRiIK1cdt6E"
   },
   "source": [
    "# Задача 3\n",
    "Написать функцию, которая принимает положительное число и возвращает количество\n",
    "бит равных 1 в этом числе. Написать тесты для кода"
   ]
  },
  {
   "cell_type": "code",
   "execution_count": 29,
   "metadata": {
    "id": "6tkfDJRz6dp_"
   },
   "outputs": [
    {
     "name": "stdout",
     "output_type": "stream",
     "text": [
      "Количество бит, равных 1 в числе 1234: 5\n",
      "Все тесты прошли успешно!\n"
     ]
    }
   ],
   "source": [
    "def count_bits(n):\n",
    "    return bin(n).count('1')\n",
    "\n",
    "n = 1234\n",
    "result = count_bits(n)\n",
    "print(f\"Количество бит, равных 1 в числе {n}: {result}\")\n",
    "\n",
    "\n",
    "\n",
    "def test_count_bits():\n",
    "    # Тест 1: Число 1234\n",
    "    assert count_bits(1234) == 5, \"Тест 1 не прошел\"\n",
    "    \n",
    "    # Тест 2: Число 0 (нет единиц в двоичной записи)\n",
    "    assert count_bits(0) == 0, \"Тест 2 не прошел\"\n",
    "    \n",
    "    # Тест 3: Число 1 (одна единица в двоичной записи)\n",
    "    assert count_bits(1) == 1, \"Тест 3 не прошел\"\n",
    "    \n",
    "    # Тест 4: Число 15 (в двоичной записи 1111, четыре единицы)\n",
    "    assert count_bits(15) == 4, \"Тест 4 не прошел\"\n",
    "    \n",
    "    # Тест 5: Число 1023 (в двоичной записи 1111111111, десять единиц)\n",
    "    assert count_bits(1023) == 10, \"Тест 5 не прошел\"\n",
    "    \n",
    "    # Тест 6: Число 2^10 (в двоичной записи одна единица в начале)\n",
    "    assert count_bits(2**10) == 1, \"Тест 6 не прошел\"\n",
    "    \n",
    "    print(\"Все тесты прошли успешно!\")\n",
    "\n",
    "test_count_bits()"
   ]
  },
  {
   "cell_type": "markdown",
   "metadata": {
    "id": "26dDUz-Ae17N"
   },
   "source": [
    "# Задача 4\n",
    "Написать функцию, которая принимает положительное число. Функция должна вернуть то,\n",
    "сколько раз необходимо перемножать цифры числа или результат перемножения, чтобы\n",
    "получилось число состоящее из одной цифры.\n",
    "Например, для входного числа:\n",
    "· 39 функция должна вернуть 3, так как 3*9=27 => 2*7=14 => 1*4=4\n",
    "· 4 функция должна вернуть 0, так как число уже состоит из одной цифры\n",
    "· 999 функция должна вернуть 4, так как 9*9*9=729 => 7*2*9=126 => 1*2*6=12 =>\n",
    "1*2=2. Написать тесты для кода"
   ]
  },
  {
   "cell_type": "code",
   "execution_count": 31,
   "metadata": {
    "id": "BH1A_Mgi6i4G"
   },
   "outputs": [
    {
     "name": "stdin",
     "output_type": "stream",
     "text": [
      "Введите число:  999\n"
     ]
    },
    {
     "name": "stdout",
     "output_type": "stream",
     "text": [
      "Количество шагов для числа 999: 4\n",
      "Все тесты прошли успешно!\n"
     ]
    }
   ],
   "source": [
    "def multiplication(n):\n",
    "    count = 0\n",
    "    while n >= 10:\n",
    "        result = 1\n",
    "        while n > 0:\n",
    "            result *= n % 10\n",
    "            n //= 10\n",
    "        n = result\n",
    "        count += 1\n",
    "    return count\n",
    "\n",
    "number = int(input(\"Введите число: \"))\n",
    "result = multiplication(number)\n",
    "print(f\"Количество шагов для числа {number}: {result}\")\n",
    "\n",
    "\n",
    "def test_multiplication():\n",
    "    # Тест 1: Число 39 (результат 3)\n",
    "    assert multiplication(39) == 3, \"Тест 1 не прошел\"\n",
    "    \n",
    "    # Тест 2: Число 4 (результат 0)\n",
    "    assert multiplication(4) == 0, \"Тест 2 не прошел\"\n",
    "    \n",
    "    # Тест 3: Число 999 (результат 4)\n",
    "    assert multiplication(999) == 4, \"Тест 3 не прошел\"\n",
    "    \n",
    "    # Тест 4: Число 25 (результат 2: 25=10 => 10=0)\n",
    "    assert multiplication(25) == 2, \"Тест 4 не прошел\"\n",
    "    \n",
    "    # Тест 5: Число 10 (результат 1: 10=0)\n",
    "    assert multiplication(10) == 1, \"Тест 5 не прошел\"\n",
    "    \n",
    "    # Тест 6: Число 1 (результат 0, так как это уже одна цифра)\n",
    "    assert multiplication(1) == 0, \"Тест 6 не прошел\"\n",
    "    \n",
    "    print(\"Все тесты прошли успешно!\")\n",
    "\n",
    "test_multiplication()"
   ]
  },
  {
   "cell_type": "markdown",
   "metadata": {
    "id": "0nS-kIa8g8vd"
   },
   "source": [
    "# Задача 5\n",
    "Написать функцию, которая принимает два целочисленных вектора одинаковой длины и\n",
    "возвращает среднеквадратическое отклонение двух векторов. Написать тесты для кода"
   ]
  },
  {
   "cell_type": "code",
   "execution_count": 33,
   "metadata": {
    "id": "8iphx4LM6xbx"
   },
   "outputs": [
    {
     "name": "stdout",
     "output_type": "stream",
     "text": [
      "Среднеквадратическое отклонение: 3.6514837167011076\n",
      "Все тесты прошли успешно!\n"
     ]
    }
   ],
   "source": [
    "import math\n",
    "\n",
    "def dispersion_vector(v1, v2):\n",
    "\tsum = 0\n",
    "\tlenght = len(v1)\n",
    "\tfor i in range(lenght):\n",
    "\t\tsum += (v1[i] - v2[i])**2\n",
    "\treturn math.sqrt(sum/lenght)\n",
    "\n",
    "v1 = [1, 2, 3]\n",
    "v2 = [1, 4, 9]\n",
    "result = dispersion_vector(v1, v2)\n",
    "print(f\"Среднеквадратическое отклонение: {result}\")\n",
    "\n",
    "\n",
    "\n",
    "def test_dispersion_vector():\n",
    "    # Тест 1: Векторы одинаковы, отклонение 0\n",
    "    assert dispersion_vector([1, 2, 3], [1, 2, 3]) == 0, \"Тест 1 не прошел\"\n",
    "    \n",
    "    # Тест 2: Векторы с разным набором значений\n",
    "    assert round(dispersion_vector([1, 2, 3], [4, 5, 6]), 6) == round(math.sqrt(9), 6), \"Тест 2 не прошел\"\n",
    "    \n",
    "    # Тест 3: Одноразличные векторы\n",
    "    assert round(dispersion_vector([10, 20, 30], [10, 25, 30]), 6) == round(math.sqrt(25 / 3), 6), \"Тест 3 не прошел\"\n",
    "    \n",
    "    # Тест 4: Один вектор содержит нули\n",
    "    assert dispersion_vector([0, 0, 0], [1, 1, 1]) == 1, \"Тест 4 не прошел\"\n",
    "    \n",
    "    # Тест 5: Длинные векторы с одинаковыми элементами\n",
    "    assert dispersion_vector([100]*1000, [100]*1000) == 0, \"Тест 5 не прошел\"\n",
    "\n",
    "    print(\"Все тесты прошли успешно!\")\n",
    "\n",
    "test_dispersion_vector()"
   ]
  },
  {
   "cell_type": "markdown",
   "metadata": {
    "id": "vpIPKL439zkw"
   },
   "source": [
    "# Задача 6\n",
    "Написать функцию, принимающая целое положительное число. Функция должна вернуть\n",
    "строку вида “(n1**p1)(n2**p2)…(nk**pk)” представляющая разложение числа на простые\n",
    "множители (если pi == 1, то выводить только ni).\n",
    "Например, для числа 86240 функция должна вернуть “(2**5)(5)(7**2)(11)”. Написать тесты для кода"
   ]
  },
  {
   "cell_type": "code",
   "execution_count": 43,
   "metadata": {
    "id": "pFebmcZk94Jw"
   },
   "outputs": [
    {
     "name": "stdout",
     "output_type": "stream",
     "text": [
      "Разложение числа 86240 на простые множители: (2**5)(5)(7**2)(11)\n",
      "Все тесты прошли успешно!\n"
     ]
    }
   ],
   "source": [
    "def prime_factorization(n):\n",
    "    factors = {}\n",
    "    while n % 2 == 0:\n",
    "        factors[2] = factors.get(2, 0) + 1\n",
    "        n //= 2\n",
    "    \n",
    "    factor = 3\n",
    "    while factor * factor <= n:\n",
    "        while n % factor == 0:\n",
    "            factors[factor] = factors.get(factor, 0) + 1\n",
    "            n //= factor\n",
    "        factor += 2\n",
    "    \n",
    "    if n > 2:\n",
    "        factors[n] = 1\n",
    "    \n",
    "    result = \"\"\n",
    "    for prime, power in sorted(factors.items()):\n",
    "        if power == 1:\n",
    "            result += f\"({prime})\"\n",
    "        else:\n",
    "            result += f\"({prime}**{power})\"\n",
    "    \n",
    "    return result\n",
    "\n",
    "n = 86240\n",
    "result = prime_factorization(n)\n",
    "print(f\"Разложение числа {n} на простые множители: {result}\")\n",
    "\n",
    "\n",
    "\n",
    "def test_prime_factorization():\n",
    "    # Тест 1: Число 86240\n",
    "    assert prime_factorization(86240) == \"(2**5)(5)(7**2)(11)\", \"Тест 1 не прошел\"\n",
    "    \n",
    "    # Тест 2: Простое число 13 (разложение должно быть просто (13))\n",
    "    assert prime_factorization(13) == \"(13)\", \"Тест 2 не прошел\"\n",
    "    \n",
    "    # Тест 3: Число 100 (два простых множителя 2 и 5)\n",
    "    assert prime_factorization(100) == \"(2**2)(5**2)\", \"Тест 3 не прошел\"\n",
    "    \n",
    "    # Тест 4: Число 1 (для 1 разложение отсутствует, функция может возвращать пустую строку)\n",
    "    assert prime_factorization(1) == \"\", \"Тест 4 не прошел\"\n",
    "    \n",
    "    # Тест 5: Число 360 (разложение 2**3 * 3**2 * 5)\n",
    "    assert prime_factorization(360) == \"(2**3)(3**2)(5)\", \"Тест 5 не прошел\"  \n",
    "    \n",
    "    print(\"Все тесты прошли успешно!\")\n",
    "\n",
    "test_prime_factorization()"
   ]
  },
  {
   "cell_type": "markdown",
   "metadata": {
    "id": "ps2s0BudX7A2"
   },
   "source": [
    "# Задача 7\n",
    "Написать функцию, принимающая целое число n, задающее количество кубиков. Функция\n",
    "должна определить, можно ли из данного кол-ва кубиков построить пирамиду, то есть\n",
    "можно ли представить число n как 1^2+2^2+3^2+…+k^2. Если можно, то функция должна\n",
    "вернуть k, иначе строку “It is impossible”. Написать тесты для кода"
   ]
  },
  {
   "cell_type": "code",
   "execution_count": 39,
   "metadata": {
    "id": "3YPjEXxhX_YT"
   },
   "outputs": [
    {
     "name": "stdout",
     "output_type": "stream",
     "text": [
      "Результат для 14: 3\n",
      "Все тесты прошли успешно!\n"
     ]
    }
   ],
   "source": [
    "def pyramid(n):\n",
    "\tresult = 0\n",
    "\tcount = 1\n",
    "\tindex = 0\n",
    "\twhile result < n:\n",
    "\t\tresult += count**2\n",
    "\t\tcount += 1\n",
    "\t\tindex = count - 1\n",
    "\tif result == n:\n",
    "\t\treturn index\n",
    "\telse:\n",
    "\t\treturn \"It is impossible\"\n",
    "\n",
    "n = 14\n",
    "result = pyramid(n)\n",
    "print(f\"Результат для {n}: {result}\")\n",
    "\n",
    "\n",
    "\n",
    "def test_pyramid():\n",
    "    # Тест 1: n = 14 (1^2 + 2^2 + 3^2 = 14, ответ должен быть 3)\n",
    "    assert pyramid(14) == 3, \"Тест 1 не прошел\"\n",
    "    \n",
    "    # Тест 2: n = 5 (не существует пирамиды для 5, должно быть 'It is impossible')\n",
    "    assert pyramid(5) == 2, \"Тест 2 не прошел\"\n",
    "    \n",
    "    # Тест 3: n = 30 (1^2 + 2^2 + 3^2 + 4^2 = 30, ответ должен быть 4)\n",
    "    assert pyramid(30) == 4, \"Тест 3 не прошел\"\n",
    "    \n",
    "    # Тест 4: n = 1 (1^2 = 1, ответ должен быть 1)\n",
    "    assert pyramid(1) == 1, \"Тест 4 не прошел\"\n",
    "\n",
    "    print(\"Все тесты прошли успешно!\")\n",
    "\n",
    "\n",
    "test_pyramid()"
   ]
  },
  {
   "cell_type": "markdown",
   "metadata": {
    "id": "KeKgmIdAQMEJ"
   },
   "source": [
    "# Задача 8\n",
    "Функция принимает на вход положительное число и определяет является ли оно сбалансированным, т.е. сумма цифр до средних равна сумме цифр после. Средними в случае нечетного числа цифр считать одну цифру, в случае четного - две средних. Написать тесты для кода"
   ]
  },
  {
   "cell_type": "code",
   "execution_count": 45,
   "metadata": {
    "id": "gMAAqtqlQrZt"
   },
   "outputs": [
    {
     "name": "stdout",
     "output_type": "stream",
     "text": [
      "Число 123321 сбалансировано: True\n",
      "Все тесты прошли успешно!\n"
     ]
    }
   ],
   "source": [
    "def is_balanced(n):\n",
    "    digits = str(n)\n",
    "    length = len(digits)\n",
    "    \n",
    "    if length % 2 == 0:\n",
    "        left = digits[:length // 2 - 1]\n",
    "        right = digits[length // 2 + 1:]\n",
    "    else:\n",
    "        left = digits[:length // 2]\n",
    "        right = digits[length // 2 + 1:]\n",
    "    \n",
    "    left_sum = sum(int(x) for x in left)\n",
    "    right_sum = sum(int(x) for x in right)\n",
    "    \n",
    "    return left_sum == right_sum\n",
    "\n",
    "n = 123321\n",
    "result = is_balanced(n)\n",
    "print(f\"Число {n} сбалансировано: {result}\")\n",
    "\n",
    "\n",
    "\n",
    "def test_is_balanced():\n",
    "    # Тест 1: Четное число длиной 6, сумма до и после средних равна\n",
    "    assert is_balanced(123321) == True, \"Тест 1 не прошел\"\n",
    "    \n",
    "    # Тест 2: Нечетное число длиной 5, сумма до и после средней не равна\n",
    "    assert is_balanced(12345) == False, \"Тест 2 не прошел\"\n",
    "    \n",
    "    # Тест 6: Одноразрядное число (считается сбалансированным)\n",
    "    assert is_balanced(5) == True, \"Тест 6 не прошел\"\n",
    "    \n",
    "    print(\"Все тесты прошли успешно!\")\n",
    "\n",
    "test_is_balanced()"
   ]
  }
 ],
 "metadata": {
  "colab": {
   "provenance": []
  },
  "kernelspec": {
   "display_name": "Python 3 (ipykernel)",
   "language": "python",
   "name": "python3"
  },
  "language_info": {
   "codemirror_mode": {
    "name": "ipython",
    "version": 3
   },
   "file_extension": ".py",
   "mimetype": "text/x-python",
   "name": "python",
   "nbconvert_exporter": "python",
   "pygments_lexer": "ipython3",
   "version": "3.12.4"
  }
 },
 "nbformat": 4,
 "nbformat_minor": 4
}
